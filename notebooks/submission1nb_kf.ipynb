{
 "cells": [
  {
   "cell_type": "code",
   "execution_count": null,
   "metadata": {
    "collapsed": true
   },
   "outputs": [],
   "source": [
    "import os\n",
    "import json\n",
    "import numpy as np\n",
    "import pandas as pd\n",
    "import librosa\n",
    "\n",
    "# First, load list of audio files. We could use 'test.csv' as well,\n",
    "# but for now, let's stick with parsing the test_soundscape folder.\n",
    "test_audio_dir = '../input/birdclef-2022/test_soundscapes/'\n",
    "file_list = [f.split('.')[0] for f in sorted(os.listdir(test_audio_dir))]\n",
    "\n",
    "# At the moment, there should only be a single soundscape visible.\n",
    "# During the submission re-run, all other hidden soundscapes\n",
    "# will be visible too and can be processed by your notebook.\n",
    "print('Number of test soundscapes:', len(file_list))"
   ]
  },
  {
   "cell_type": "code",
   "execution_count": null,
   "outputs": [],
   "source": [
    "# Load scored birds\n",
    "with open('../input/birdclef-2022/scored_birds.json') as sbfile:\n",
    "    scored_birds = json.load(sbfile)"
   ],
   "metadata": {
    "collapsed": false,
    "pycharm": {
     "name": "#%%\n"
    }
   }
  },
  {
   "cell_type": "code",
   "execution_count": null,
   "outputs": [],
   "source": [
    "# This is where we will store our results\n",
    "pred = {'row_id': [], 'target': []}\n",
    "\n",
    "# Process audio files and make predictions\n",
    "for afile in file_list:\n",
    "\n",
    "    # Complete file path\n",
    "    path = test_audio_dir + afile + '.ogg'\n",
    "\n",
    "    # Open file with librosa and split signal into 5-second chunks\n",
    "    # sig, rate = librosa.load(path)\n",
    "    # ...\n",
    "\n",
    "    # Let's assume we have a list of 12 audio chunks (1min / 5s == 12 segments)\n",
    "    chunks = [[] for i in range(12)]\n",
    "\n",
    "    # Make prediction for each chunk\n",
    "    # Each scored bird gets a random value in our case\n",
    "    # since we don't actually have a model\n",
    "    for i in range(len(chunks)):\n",
    "        chunk_end_time = (i + 1) * 5\n",
    "        for bird in scored_birds:\n",
    "\n",
    "            # This is our random prediction score for this bird\n",
    "            score = np.random.uniform()\n",
    "\n",
    "            # Assemble the row_id which we need to do for each scored bird\n",
    "            row_id = afile + '_' + bird + '_' + str(chunk_end_time)\n",
    "\n",
    "            # Put the result into our prediction dict and\n",
    "            # apply a \"confidence\" threshold of 0.5\n",
    "            pred['row_id'].append(row_id)\n",
    "            pred['target'].append(True if score > 0.5 else False)"
   ],
   "metadata": {
    "collapsed": false,
    "pycharm": {
     "name": "#%%\n"
    }
   }
  },
  {
   "cell_type": "markdown",
   "source": [
    "Finally, we need to save our results to a csv-file named 'submission.csv'.\n",
    "\n",
    "Important: Make sure to include 'True' or 'False' for all scored birds for every 5-second segment of every file. If the number of rows in your 'submission.csv' doesn't match the ground truth, submission will fail."
   ],
   "metadata": {
    "collapsed": false,
    "pycharm": {
     "name": "#%% md\n"
    }
   }
  },
  {
   "cell_type": "code",
   "execution_count": null,
   "outputs": [],
   "source": [
    "# Make a new data frame and look at some results\n",
    "results = pd.DataFrame(pred, columns = ['row_id', 'target'])\n",
    "\n",
    "# Quick sanity check\n",
    "print(results.head())\n",
    "\n",
    "# Convert our results to csv\n",
    "results.to_csv(\"submission.csv\", index=False)"
   ],
   "metadata": {
    "collapsed": false,
    "pycharm": {
     "name": "#%%\n"
    }
   }
  },
  {
   "cell_type": "markdown",
   "source": [
    "ex.)\n",
    "row_id  target\n",
    "0  soundscape_453028782_akiapo_5    True\n",
    "1  soundscape_453028782_aniani_5   False\n",
    "2  soundscape_453028782_apapan_5   False\n",
    "3  soundscape_453028782_barpet_5   False\n",
    "4  soundscape_453028782_crehon_5    True"
   ],
   "metadata": {
    "collapsed": false,
    "pycharm": {
     "name": "#%% md\n"
    }
   }
  },
  {
   "cell_type": "markdown",
   "source": [
    "Now, we are ready to subnmit, and these are the steps we need to take:\n",
    "\n",
    "Go to notebook settings (on the left, below the \"Data\" explorer) and disable \"Internet\".\n",
    "Click \"Save Version\" (top right).\n",
    "Open notebook under the \"Code\" tab of the competition. It will show up under \"Your work\".\n",
    "Now click on the three dots in the upper right corner and select \"Submit to Competition\" (see screenshot below).\n",
    "Follow the on-screen instructions.\n",
    "Wait for the notebook to finish, results will show up under \"My Submissions\"."
   ],
   "metadata": {
    "collapsed": false,
    "pycharm": {
     "name": "#%% md\n"
    }
   }
  },
  {
   "cell_type": "code",
   "execution_count": null,
   "outputs": [],
   "source": [],
   "metadata": {
    "collapsed": false,
    "pycharm": {
     "name": "#%%\n"
    }
   }
  }
 ],
 "metadata": {
  "kernelspec": {
   "display_name": "Python 3",
   "language": "python",
   "name": "python3"
  },
  "language_info": {
   "codemirror_mode": {
    "name": "ipython",
    "version": 2
   },
   "file_extension": ".py",
   "mimetype": "text/x-python",
   "name": "python",
   "nbconvert_exporter": "python",
   "pygments_lexer": "ipython2",
   "version": "2.7.6"
  }
 },
 "nbformat": 4,
 "nbformat_minor": 0
}